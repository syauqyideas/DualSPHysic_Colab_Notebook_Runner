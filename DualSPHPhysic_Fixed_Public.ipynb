{
  "nbformat": 4,
  "nbformat_minor": 0,
  "metadata": {
    "colab": {
      "provenance": [],
      "gpuType": "T4",
      "authorship_tag": "ABX9TyMnR4Hg1RudbdcfzDN5xY9o",
      "include_colab_link": true
    },
    "kernelspec": {
      "name": "python3",
      "display_name": "Python 3"
    },
    "language_info": {
      "name": "python"
    },
    "accelerator": "GPU"
  },
  "cells": [
    {
      "cell_type": "markdown",
      "metadata": {
        "id": "view-in-github",
        "colab_type": "text"
      },
      "source": [
        "<a href=\"https://colab.research.google.com/github/syauqyideas/DualSPHysic_Colab_Notebook_Runner/blob/main/DualSPHPhysic_Fixed_Public.ipynb\" target=\"_parent\"><img src=\"https://colab.research.google.com/assets/colab-badge.svg\" alt=\"Open In Colab\"/></a>"
      ]
    },
    {
      "cell_type": "code",
      "execution_count": null,
      "metadata": {
        "id": "6W9McGH7JJEo"
      },
      "outputs": [],
      "source": [
        "import os\n",
        "\n",
        "name = 'SuperResult' #@param {type: 'string'}\n",
        "os.environ['name'] = name\n",
        "DualsphysicsVersion = '5.2.2' #@param ['4','5.2.2']{allow-input : false}\n",
        "\n",
        "if DualsphysicsVersion == '5.2.2':\n",
        "  os.environ['pathsph'] = '/content/DualSPHysics_Linux-main/EXECS5'\n",
        "  os.environ[\"LD_LIBRARY_PATH\"] = \"/content/DualSPHysics_Linux-main/src/lib/linux_gcc\"# + os.environ.get(\"LD_LIBRARY_PATH\", \"\")\n",
        "else:\n",
        "  os.environ['pathsph'] = '/content/DualSPHysics_Linux-main/EXECS'\n",
        "\n",
        "runner_directory ='/content/DualSPHysics_Linux-main/RUN_DIRECTORY/'\n",
        "\n",
        "github_project = True #@param {type: 'boolean'}\n",
        "github_project_PAT = True #@param {type: 'boolean'}\n",
        "personal_project_repo = \"syauqy_dualsphproject\" #@param {type: 'string'}\n",
        "github_username = \"syauqyideas\" #@param {type: 'string'}\n",
        "if github_project_PAT == True :\n",
        "  github_personal_token = \"\" #@param {type: 'string'}\n",
        "your_case_path = f'/content/{personal_project_repo}/{name}'\n",
        "\n",
        "run_directory = runner_directory + name\n",
        "os.environ['running_def'] = f'{name}_Def'\n",
        "#if you use personal .sh file :\n",
        "personal_sh_file = False #@param {type : 'boolean'}\n",
        "if personal_sh_file == True :\n",
        "  FileRunnerName = \"\" #@param {type: 'string'}"
      ]
    },
    {
      "cell_type": "markdown",
      "source": [
        "<h3>Google Drive Connect"
      ],
      "metadata": {
        "id": "31dhxMU3MYru"
      }
    },
    {
      "cell_type": "code",
      "source": [
        "from google.colab import drive\n",
        "drive.mount('/content/drive')"
      ],
      "metadata": {
        "colab": {
          "base_uri": "https://localhost:8080/"
        },
        "id": "gIkUJcisMdTk",
        "outputId": "cc7e8b11-adb6-40e7-c19c-801bbc06e89c"
      },
      "execution_count": null,
      "outputs": [
        {
          "output_type": "stream",
          "name": "stdout",
          "text": [
            "Mounted at /content/drive\n"
          ]
        }
      ]
    },
    {
      "cell_type": "markdown",
      "source": [
        "<h3> Setting Environment"
      ],
      "metadata": {
        "id": "fn2RQPvTMUCt"
      }
    },
    {
      "cell_type": "code",
      "source": [
        "!apt install nvidia-driver-555 #i dont know, colab and dualsphysic is just didnt recognize each other - so we need to install cuda that compatible -- the 555 version is best though\n",
        "!sudo apt update && sudo apt upgrade\n",
        "!pip install IPython\n",
        "import IPython #at some point, i just bored to see the dirty output\n",
        "from IPython.display import clear_output\n",
        "clear_output() #you can take away this\n",
        "\n",
        "!nvcc --version #it is just check cuda version"
      ],
      "metadata": {
        "colab": {
          "base_uri": "https://localhost:8080/"
        },
        "id": "JnO6nz5nGSv1",
        "outputId": "6d38aaa9-9600-44ee-a1bd-cbfc016445dc"
      },
      "execution_count": null,
      "outputs": [
        {
          "output_type": "stream",
          "name": "stdout",
          "text": [
            "nvcc: NVIDIA (R) Cuda compiler driver\n",
            "Copyright (c) 2005-2023 NVIDIA Corporation\n",
            "Built on Tue_Aug_15_22:02:13_PDT_2023\n",
            "Cuda compilation tools, release 12.2, V12.2.140\n",
            "Build cuda_12.2.r12.2/compiler.33191640_0\n"
          ]
        }
      ]
    },
    {
      "cell_type": "markdown",
      "source": [
        "<h3>Github Download Dualsphysic and clone your own project"
      ],
      "metadata": {
        "id": "smjH5aOAMc92"
      }
    },
    {
      "cell_type": "code",
      "source": [
        "\n",
        "!wget https://github.com/syauqyideas/DualSPHysics_Linux/archive/refs/heads/main.zip\n",
        "!unzip main.zip\n",
        "!rm main.zip\n",
        "clear_output()\n",
        "\n",
        "if github_project == True :\n",
        "  if github_project_PAT == True :\n",
        "  !git clone https://{github_personal_token}@github.com/{github_username}/{personal_project_repo}.git\n",
        "  else :\n",
        "  !git clone https://github.com/{github_username}/{public_project_repo}.git\n",
        "  !unzip main.zip\n",
        "  clear_output()\n",
        "\n",
        "!sudo chmod +x /content/DualSPHysics_Linux-main/EXECS5/*\n",
        "!sudo chmod +x /content/DualSPHysics_Linux-main/EXECS5/FlexStruc/*\n",
        "!sudo chmod +x /content/DualSPHysics_Linux-main/EXECS5/DSNNewtonian/*\n",
        "!sudo chmod +x /content/DualSPHysics_Linux-main/EXECS5/DSGcc7/*\n",
        "\n",
        "!sudo chmod +x /content/DualSPHysics_Linux-main/EXECS/GenCase4_linux64\n",
        "!sudo chmod +x /content/DualSPHysics_Linux-main/EXECS/DualSPHysics4CPU_linux64\n",
        "!sudo chmod +x /content/DualSPHysics_Linux-main/EXECS/BoundaryVTK4_linux64\n",
        "!sudo chmod +x /content/DualSPHysics_Linux-main/EXECS/PartVTK4_linux64\n",
        "!sudo chmod +x /content/DualSPHysics_Linux-main/EXECS/PartVTKOut4_linux64\n",
        "!sudo chmod +x /content/DualSPHysics_Linux-main/EXECS/MeasureTool4_linux64\n",
        "!sudo chmod +x /content/DualSPHysics_Linux-main/EXECS/ComputeForces4_linux64\n",
        "!sudo chmod +x /content/DualSPHysics_Linux-main/EXECS/DualSPHysics4_linux64\n"
      ],
      "metadata": {
        "id": "JUm5RvRRMja8"
      },
      "execution_count": null,
      "outputs": []
    },
    {
      "cell_type": "markdown",
      "source": [
        "<h4> Setting Runner Environment, copy file to RUN_DIRECTORY"
      ],
      "metadata": {
        "id": "kbRbSXJOzOQX"
      }
    },
    {
      "cell_type": "code",
      "source": [
        "!rm -r {runner_directory}/{name}\n",
        "!cp -r {your_case_path} {runner_directory}\n",
        "\n",
        "!cd /content\n",
        "\n",
        "os.environ['dirout'] = f'{run_directory}/{name}_out'\n",
        "os.environ['diroutdata'] = f'{run_directory}/data'\n",
        "os.environ['dirout2'] = f'{run_directory}/out'\n",
        "os.environ['surface'] = f'{run_directory}/Surface'\n",
        "os.environ['particle'] = f'{run_directory}/particle'\n",
        "\n",
        "if DualsphysicsVersion == '5.2.2':\n",
        "  os.environ['gencase'] = \"GenCase_linux64\"\n",
        "  os.environ[\"DualSPHysics\"] = \"DualSPHysics5.2_linux64\"\n",
        "  os.environ[\"vtk\"] = \"PartVTK_linux64\"\n",
        "  os.environ[\"isosurface\"] = \"IsoSurface_linux64\"\n",
        "\n",
        "elif DualsphysicsVersion == '4':\n",
        "  os.environ['gencase'] = \"GenCase_linux64\"\n",
        "  os.environ[\"DualSPHysics\"] = \"DualSPHysics4_linux64\"\n",
        "  os.environ[\"vtk\"] = \"PartVTK4_Linux64\"\n",
        "  os.environ[\"isosurface\"] = \"IsoSurface4_linux64\""
      ],
      "metadata": {
        "id": "B5lqBhqCzN-7"
      },
      "execution_count": null,
      "outputs": []
    },
    {
      "cell_type": "markdown",
      "source": [
        "<h3><strong> Run using the internal bash command line</strong></h3>\n",
        "<h5>comment the process you didnt want to run"
      ],
      "metadata": {
        "id": "wxf3LQKGnL2t"
      }
    },
    {
      "cell_type": "code",
      "source": [
        "%cd $run_directory\n",
        "\n",
        "#preprocessing case with gencase\n",
        "!mkdir $dirout\n",
        "!$pathsph/$gencase $running_def $dirout -save:all\n",
        "\n",
        "#running the case\n",
        "!mkdir $diroutdata\n",
        "!$pathsph/$DualSPHysics -gpu $dirout -dirdataout data -svres\n",
        "\n",
        "#running VTK creator\n",
        "%cd $run_directory\n",
        "!mkdir $particle\n",
        "#%cd $particle\n",
        "!$pathsph/$vtk -dirin $diroutdata -savevtk  $particle/particle -onlytype:-all,+fluid\n",
        "\n",
        "\n",
        "#running isosurface\n",
        "%cd $run_directory\n",
        "!mkdir $surface\n",
        "!$pathsph/$isosurface -dirin $diroutdata -saveiso $surface/Surface"
      ],
      "metadata": {
        "id": "zgOgWFq5YJFg"
      },
      "execution_count": null,
      "outputs": []
    },
    {
      "cell_type": "markdown",
      "source": [
        "<h3> Run with external command line -- configured with your runner file  (.sh file) </h3>"
      ],
      "metadata": {
        "id": "gKuCdZelMni-"
      }
    },
    {
      "cell_type": "code",
      "source": [
        "%cd $CaseFilePath\n",
        "!sudo bash ./$FileRunnerName"
      ],
      "metadata": {
        "id": "iMV-VaL7Mm19"
      },
      "execution_count": null,
      "outputs": []
    },
    {
      "cell_type": "markdown",
      "source": [
        "Export"
      ],
      "metadata": {
        "id": "4L44dK7P8wW9"
      }
    },
    {
      "cell_type": "markdown",
      "source": [
        "<h4> In case you need to edit xml, just use nano"
      ],
      "metadata": {
        "id": "kQJaZvxnxvTT"
      }
    },
    {
      "cell_type": "code",
      "source": [
        "!pip install colab-xterm\n",
        "%load_ext colabxterm\n",
        "!apt install nano\n",
        "%cd $run_directory\n",
        "clear_output()\n",
        "%xterm"
      ],
      "metadata": {
        "id": "3Kpry9MGmQ_8"
      },
      "execution_count": null,
      "outputs": []
    }
  ]
}