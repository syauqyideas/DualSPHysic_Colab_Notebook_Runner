{
  "nbformat": 4,
  "nbformat_minor": 0,
  "metadata": {
    "colab": {
      "provenance": [],
      "gpuType": "T4",
      "authorship_tag": "ABX9TyP/QzMcGJhH+jvdqgHIMNIg",
      "include_colab_link": true
    },
    "kernelspec": {
      "name": "python3",
      "display_name": "Python 3"
    },
    "language_info": {
      "name": "python"
    },
    "accelerator": "GPU"
  },
  "cells": [
    {
      "cell_type": "markdown",
      "metadata": {
        "id": "view-in-github",
        "colab_type": "text"
      },
      "source": [
        "<a href=\"https://colab.research.google.com/github/syauqyideas/DualSPHysic_Colab_Notebook_Runner/blob/main/DualSPHPhysic_Fixed_Public.ipynb\" target=\"_parent\"><img src=\"https://colab.research.google.com/assets/colab-badge.svg\" alt=\"Open In Colab\"/></a>"
      ]
    },
    {
      "cell_type": "code",
      "execution_count": 39,
      "metadata": {
        "id": "6W9McGH7JJEo"
      },
      "outputs": [],
      "source": [
        "import os\n",
        "\n",
        "name = '' #@param {type: 'string'}\n",
        "os.environ['name'] = name\n",
        "DualsphysicsVersion = '5.2.2' #@param ['4','5.2.2']{allow-input : false}\n",
        "\n",
        "if DualsphysicsVersion == '5.2.2':\n",
        "  os.environ['pathsph'] = '/content/DualSPHysics_Linux-main/EXECS5'\n",
        "  os.environ[\"LD_LIBRARY_PATH\"] = \"/content/DualSPHysics_Linux-main/src/lib/linux_gcc\"# + os.environ.get(\"LD_LIBRARY_PATH\", \"\")\n",
        "else:\n",
        "  os.environ['pathsph'] = '/content/DualSPHysics_Linux-main/EXECS'\n",
        "\n",
        "runner_directory ='/content/DualSPHysics_Linux-main/RUN_DIRECTORY/'\n",
        "\n",
        "github_project = True #@param {type: 'boolean'}\n",
        "github_project_PAT = True #@param {type: 'boolean'}\n",
        "personal_project_repo = \"\" #@param {type: 'string'}\n",
        "github_username = \"\" #@param {type: 'string'}\n",
        "if github_project_PAT == True :\n",
        "  github_personal_token = \"\" #@param {type: 'string'}\n",
        "your_case_path = f'/content/{personal_project_repo}/{name}'\n",
        "\n",
        "run_directory = runner_directory + name\n",
        "os.environ['running_def'] = f'{name}_Def'\n",
        "os.environ['runner_xml'] = f'{run_directory}/{name}_Def.xml'\n",
        "#if you use personal .sh file :\n",
        "personal_sh_file = False #@param {type : 'boolean'}\n",
        "if personal_sh_file == True :\n",
        "  FileRunnerName = \"\" #@param {type: 'string'}"
      ]
    },
    {
      "cell_type": "markdown",
      "source": [
        "<h3>Google Drive Connect"
      ],
      "metadata": {
        "id": "31dhxMU3MYru"
      }
    },
    {
      "cell_type": "code",
      "source": [
        "from google.colab import drive\n",
        "drive.mount('/content/drive')"
      ],
      "metadata": {
        "colab": {
          "base_uri": "https://localhost:8080/"
        },
        "id": "gIkUJcisMdTk",
        "outputId": "82e2e36f-ff0b-4aef-f3ff-96864d9006e6"
      },
      "execution_count": 2,
      "outputs": [
        {
          "output_type": "stream",
          "name": "stdout",
          "text": [
            "Mounted at /content/drive\n"
          ]
        }
      ]
    },
    {
      "cell_type": "markdown",
      "source": [
        "<h3> Setting Environment"
      ],
      "metadata": {
        "id": "fn2RQPvTMUCt"
      }
    },
    {
      "cell_type": "code",
      "source": [
        "!apt install nvidia-driver-555 #i dont know, colab and dualsphysic is just didnt recognize each other - so we need to install cuda that compatible -- the 555 version is best though\n",
        "!sudo apt update && sudo apt upgrade\n",
        "!pip install IPython\n",
        "import IPython #at some point, i just bored to see the dirty output\n",
        "from IPython.display import clear_output\n",
        "clear_output() #you can take away this\n",
        "\n",
        "!nvcc --version #it is just check cuda version"
      ],
      "metadata": {
        "colab": {
          "base_uri": "https://localhost:8080/"
        },
        "id": "JnO6nz5nGSv1",
        "outputId": "144cea21-4d03-4b92-b4a5-eabf43e6ffd8"
      },
      "execution_count": 3,
      "outputs": [
        {
          "output_type": "stream",
          "name": "stdout",
          "text": [
            "nvcc: NVIDIA (R) Cuda compiler driver\n",
            "Copyright (c) 2005-2023 NVIDIA Corporation\n",
            "Built on Tue_Aug_15_22:02:13_PDT_2023\n",
            "Cuda compilation tools, release 12.2, V12.2.140\n",
            "Build cuda_12.2.r12.2/compiler.33191640_0\n"
          ]
        }
      ]
    },
    {
      "cell_type": "markdown",
      "source": [
        "<h3>Github Download Dualsphysic and clone your own project"
      ],
      "metadata": {
        "id": "smjH5aOAMc92"
      }
    },
    {
      "cell_type": "code",
      "source": [
        "%cd /content\n",
        "\n",
        "!wget https://github.com/syauqyideas/DualSPHysics_Linux/archive/refs/heads/main.zip\n",
        "!unzip main.zip\n",
        "!rm main.zip\n",
        "clear_output()\n",
        "\n",
        "if github_project == True :\n",
        "  if github_project_PAT == True :\n",
        "    !rm -r ./{personal_project_repo}\n",
        "    !git clone https://{github_personal_token}@github.com/{github_username}/{personal_project_repo}.git\n",
        "  else :\n",
        "    !git clone https://github.com/{github_username}/{public_project_repo}.git\n",
        "    !unzip main.zip\n",
        "    clear_output()\n",
        "\n",
        "!sudo chmod +x /content/DualSPHysics_Linux-main/EXECS5/*\n",
        "!sudo chmod +x /content/DualSPHysics_Linux-main/EXECS5/FlexStruc/*\n",
        "!sudo chmod +x /content/DualSPHysics_Linux-main/EXECS5/DSNNewtonian/*\n",
        "!sudo chmod +x /content/DualSPHysics_Linux-main/EXECS5/DSGcc7/*\n",
        "\n",
        "!sudo chmod +x /content/DualSPHysics_Linux-main/EXECS/GenCase4_linux64\n",
        "!sudo chmod +x /content/DualSPHysics_Linux-main/EXECS/DualSPHysics4CPU_linux64\n",
        "!sudo chmod +x /content/DualSPHysics_Linux-main/EXECS/BoundaryVTK4_linux64\n",
        "!sudo chmod +x /content/DualSPHysics_Linux-main/EXECS/PartVTK4_linux64\n",
        "!sudo chmod +x /content/DualSPHysics_Linux-main/EXECS/PartVTKOut4_linux64\n",
        "!sudo chmod +x /content/DualSPHysics_Linux-main/EXECS/MeasureTool4_linux64\n",
        "!sudo chmod +x /content/DualSPHysics_Linux-main/EXECS/ComputeForces4_linux64\n",
        "!sudo chmod +x /content/DualSPHysics_Linux-main/EXECS/DualSPHysics4_linux64\n"
      ],
      "metadata": {
        "id": "JUm5RvRRMja8"
      },
      "execution_count": null,
      "outputs": []
    },
    {
      "cell_type": "markdown",
      "source": [
        "<h4> Setting Runner Environment, copy file to RUN_DIRECTORY"
      ],
      "metadata": {
        "id": "kbRbSXJOzOQX"
      }
    },
    {
      "cell_type": "code",
      "source": [
        "!rm -r {runner_directory}/{name}\n",
        "!cp -r {your_case_path} {runner_directory}\n",
        "\n",
        "!cd /content\n",
        "\n",
        "os.environ['dirout'] = f'{run_directory}/{name}_out'\n",
        "os.environ['diroutdata'] = f'{run_directory}/data'\n",
        "os.environ['dirout2'] = f'{run_directory}/out'\n",
        "os.environ['surface'] = f'{run_directory}/Surface'\n",
        "os.environ['particle'] = f'{run_directory}/particle'\n",
        "\n",
        "if DualsphysicsVersion == '5.2.2':\n",
        "  os.environ['gencase'] = \"GenCase_linux64\"\n",
        "  os.environ[\"DualSPHysics\"] = \"DualSPHysics5.2_linux64\"\n",
        "  os.environ[\"vtk\"] = \"PartVTK_linux64\"\n",
        "  os.environ[\"isosurface\"] = \"IsoSurface_linux64\"\n",
        "\n",
        "elif DualsphysicsVersion == '4':\n",
        "  os.environ['gencase'] = \"GenCase_linux64\"\n",
        "  os.environ[\"DualSPHysics\"] = \"DualSPHysics4_linux64\"\n",
        "  os.environ[\"vtk\"] = \"PartVTK4_Linux64\"\n",
        "  os.environ[\"isosurface\"] = \"IsoSurface4_linux64\""
      ],
      "metadata": {
        "id": "B5lqBhqCzN-7"
      },
      "execution_count": 34,
      "outputs": []
    },
    {
      "cell_type": "markdown",
      "source": [
        "<h3><strong> Run using the internal bash command line</strong></h3>\n",
        "<h5>comment the process you didnt want to run"
      ],
      "metadata": {
        "id": "wxf3LQKGnL2t"
      }
    },
    {
      "cell_type": "code",
      "source": [
        "%cd $run_directory\n",
        "\n",
        "#preprocessing case with gencase\n",
        "!mkdir $dirout\n",
        "!cp $runner_xml $dirout\n",
        "!$pathsph/$gencase $dirout/$running_def $dirout/$name -save:all\n",
        "\n",
        "#running the case\n",
        "!mkdir $diroutdata\n",
        "!$pathsph/$DualSPHysics -gpu $dirout/$name -dirdataout data -svres\n",
        "\n",
        "#running VTK creator\n",
        "%cd $run_directory\n",
        "!mkdir $particle\n",
        "#%cd $particle\n",
        "!$pathsph/$vtk -dirin $diroutdata -savevtk  $particle/particle -onlytype:-all,+fluid\n",
        "\n",
        "\n",
        "#running isosurface\n",
        "%cd $run_directory\n",
        "!mkdir $surface\n",
        "!$pathsph/$isosurface -dirin $diroutdata -saveiso $surface/Surface"
      ],
      "metadata": {
        "id": "zgOgWFq5YJFg"
      },
      "execution_count": null,
      "outputs": []
    },
    {
      "cell_type": "markdown",
      "source": [
        "<h3><strong> Run for resumability</strong></h3>\n",
        "<h5>insert the number of which the time step you will start"
      ],
      "metadata": {
        "id": "cOlls7FN3Iv-"
      }
    },
    {
      "cell_type": "code",
      "source": [
        "timestep_restart = None #@param {type: 'number'}\n",
        "os.environ['restart_timestep'] = f'{timestep_restart}'"
      ],
      "metadata": {
        "id": "2qdFYKAXGcr9"
      },
      "execution_count": null,
      "outputs": []
    },
    {
      "cell_type": "code",
      "source": [
        "#!$pathsph/$gencase $running_def $dirout -save:all\n",
        "#!$pathsph/$DualSPHysics -gpu $dirout/$name -dirdataout data -svres\n",
        "\n",
        "!$pathsph/$DualSPHysics $dirout/$name $diroutdata -svres -gpu -partbegin:$restart_timestep $diroutdata"
      ],
      "metadata": {
        "colab": {
          "base_uri": "https://localhost:8080/"
        },
        "id": "BzHfvviA3Dmn",
        "outputId": "04e6a984-2ddd-4660-80a2-0b312ccd0ad2"
      },
      "execution_count": 46,
      "outputs": [
        {
          "output_type": "stream",
          "name": "stdout",
          "text": [
            "\n",
            "\n",
            " <DUALSPHYSICS5> Copyright (c) 2023 by\n",
            " Dr Jose M. Dominguez Alonso, Dr Alejandro Crespo,\n",
            " Prof. Moncho Gomez Gesteira, Prof. Benedict Rogers,\n",
            " Dr Georgios Fourtakas, Prof. Peter Stansby,\n",
            " Dr Renato Vacondio, Dr Corrado Altomare, Dr Angelo Tafuni,\n",
            " Dr Orlando Garcia Feal, Ivan Martinez Estevez,\n",
            " Dr Joseph O'Connor, Dr Aaron English\n",
            "\n",
            " EPHYSLAB Environmental Physics Laboratory, Universidade de Vigo\n",
            " School of Mechanical, Aerospace and Civil Engineering, University of Manchester\n",
            "\n",
            " DualSPHysics is free software: you can redistribute it and/or\n",
            " modify it under the terms of the GNU Lesser General Public License\n",
            " as published by the Free Software Foundation, either version 2.1 of\n",
            " the License, or (at your option) any later version.\n",
            "\n",
            " DualSPHysics is distributed in the hope that it will be useful,\n",
            " but WITHOUT ANY WARRANTY; without even the implied warranty of\n",
            " MERCHANTABILITY or FITNESS FOR A PARTICULAR PURPOSE.  See the\n",
            " GNU Lesser General Public License for more details.\n",
            "\n",
            " You should have received a copy of the GNU Lesser General Public License\n",
            " along with DualSPHysics. If not, see <http://www.gnu.org/licenses/>.\n",
            "\n",
            " Free download source files and documentation from DualSPHysics website (http://dual.sphysics.org).\n",
            " Full list of developers and contributors is available at https://dual.sphysics.org/developers\n",
            " Properly cite the use of DualSPHysics (Dominguez et al., 2022) (https://dual.sphysics.org/references).\n",
            "\n",
            "\n",
            "DualSPHysics5 v5.2.274 (02-02-2024)\n",
            "====================================\n",
            "LoadDsphConfig> .../DualSPHysics_Linux-main/EXECS5/DsphConfig.xml\n",
            "[CUDA Capable device(s)]\n",
            "  Detected 1 CUDA Capable device(s)\n",
            "  CUDA Driver Version / Runtime Version: 12.5 / 11.7\n",
            " \n",
            "Device 0: \"Tesla T4\"\n",
            "  CUDA Capability Major....: 7.5\n",
            "  Global memory............: 15102 MBytes\n",
            "  CUDA Cores...............: 2560 (40 Multiprocessors,  64 CUDA Cores/MP)\n",
            "  GPU Max Clock rate.......: 1590 MHz (1.59 GHz)\n",
            "  Memory Clock rate........: 5001 Mhz\n",
            "  Memory Bus Width.........: 256-bit\n",
            "  L2 Cache Size............: 4096 KBytes\n",
            "  Constant memory..........: 64 KBytes\n",
            "  Shared memory per block..: 48 KBytes\n",
            "  Registers per block......: 65536\n",
            "  Maximum threads per MP...: 1024\n",
            "  Maximum threads per block: 1024\n",
            "  Concurrent copy and kernel execution....: Yes with 3 copy engine(s)\n",
            "  Run time limit on kernels...............: No\n",
            "  Integrated GPU sharing Host Memory......: No\n",
            "  Support host page-locked memory mapping.: Yes\n",
            "  Device has ECC support..................: Enabled\n",
            "  Device supports Unified Addressing (UVA): Yes\n",
            "  Device PCI (Domain / Bus / location)....: 0 / 0 / 4\n",
            "  Device supports P2P and RDMA............: Yes\n",
            "  Device supports P2P from/to GPUs........: \n",
            " \n",
            "[GPU Hardware]\n",
            "Device default: 0 \"Tesla T4\"\n",
            "Compute capability: 7.5\n",
            "Memory global: 15102 MB\n",
            "Memory shared: 49152 Bytes\n",
            " \n",
            "\n",
            "[Initialising JSphGpuSingle  05-01-2025 10:48:10]\n",
            "ProgramFile=\".../DualSPHysics_Linux-main/EXECS5/DualSPHysics5.2_linux64\"\n",
            "ExecutionDir=\".../DualSPHysics_Linux-main/RUN_DIRECTORY/TryForResume\"\n",
            "XmlFile=\".../TryForResume/TryForResume_out/TryForResume.xml\"\n",
            "OutputDir=\".../RUN_DIRECTORY/TryForResume/data\"\n",
            "OutputDataDir=\".../RUN_DIRECTORY/TryForResume/data\"\n",
            "PartBegin=3\n",
            "PartBeginDir=\"/content/DualSPHysics_Linux-main/RUN_DIRECTORY/TryForResume/data\"\n",
            "PartBeginFirst=3\n",
            "XML-App: GenCase v5.0.278c (30-10-2023)\n",
            "XML-Vars (uservars + ctes): MResId=[0]  CaseName=[\"TryForResume\"]  Data2D=[0]  Data2DPosy=[0]  H=[0.00415692]  KernelSize=[0.00831384]  B=[5485.71]  Gamma=[7]  Rhop0=[1000]  Dp=[0.002]  Gravity_x=[0]  Gravity_y=[0]  Gravity_z=[-1]  MassFluid=[8e-06]  MassBound=[8e-06]\n",
            "XML-Vars (parameters): TimeMax=[8]  TimeOut=[0.075]\n",
            "**Basic case configuration is loaded\n",
            "**Special case configuration is loaded\n",
            "Loading initial state of particles...\n",
            "\n",
            "*** WARNING: Restarting from single precision data generates some minor differences in the results.\n",
            "\n",
            "Loaded particles: 174636\n",
            "MapRealPos(final)=(-0.0482078,-0.0982078,0.0517922)-(0.0482078,0.0982078,0.148208)\n",
            "**Initial state of particles is loaded\n",
            "PosCellCode=\"13_10_9 (8192,1024,512)\"\n",
            "PosCellSize=0.008314  (1 x KernelSize)\n",
            "**3D-Simulation parameters:\n",
            "CaseName=\"TryForResume\"\n",
            "RunName=\"TryForResume\"\n",
            "Symmetry=False\n",
            "SavePosDouble=False\n",
            "SvExtraParts=\"\"\n",
            "SaveFtAce=False\n",
            "SvTimers=True\n",
            "Boundary=\"DBC\"\n",
            "StepAlgorithm=\"Symplectic\"\n",
            "Kernel=\"Wendland\"\n",
            "  Wendland.awen=5816102\n",
            "  Wendland.bwen=-6.995717e+09\n",
            "Viscosity=\"Artificial\"\n",
            "  Visco=0.01\n",
            "  ViscoBoundFactor=1\n",
            "DensityDiffusion=\"None\"\n",
            "Shifting=\"None\"\n",
            "RigidAlgorithm=\"None\"\n",
            "FloatingCount=0\n",
            "CaseNp=237699\n",
            "CaseNbound=0\n",
            "CaseNfixed=0\n",
            "CaseNmoving=0\n",
            "CaseNfloat=0\n",
            "CaseNfluid=237699\n",
            "PeriodicActive=\"None\"\n",
            "Dp=0.002\n",
            "KernelH=0.004157  (CoefficientH=1.2; H/Dp=2.07846)\n",
            "KernelSize=0.008313844\n",
            "CteB=5485.714\n",
            "Gamma=7\n",
            "RhopZero=1000\n",
            "Cs0=6.196773393329891\n",
            "CFLnumber=0.2\n",
            "DtIni=0.0006708203973845847\n",
            "DtMin=3.354102036902938e-05\n",
            "DtAllParticles=False\n",
            "MassFluid=0.000008\n",
            "MassBound=0.000008\n",
            "TimeMax=8\n",
            "TimePart=0.075\n",
            "Gravity=(0,0,-1)\n",
            "NpMinimum=0\n",
            "RhopOut=True\n",
            "RhopOutMin=700\n",
            "RhopOutMax=1300\n",
            "WrnPartsOut=True\n",
            "CellMode=\"Full\"\n",
            "ScellDiv=1\n",
            "MapCells=(12,24,12)\n",
            "CellDomFixed=False\n",
            "**Requested GPU memory for 174764 particles: 28.0 MB (0 times).\n",
            "DomCells=(12,24,12)\n",
            "DomCellCode=\"1+10_11_10\"\n",
            " \n",
            "BlockSize calculation mode: Fixed.\n",
            "  BsForcesBound=128 (48 regs)\n",
            "  BsForcesFluid=128 (48 regs)\n",
            " \n",
            "**CellDiv: Requested gpu memory for 183495 particles: 1.4 MB.\n",
            "**CellDiv: Requested gpu memory for 3250 cells (CellMode=Full): 0.0 MB.\n",
            " \n",
            "RunMode=\"Pos-Cell - Single-GPU\"\n",
            " \n",
            "Particle summary:\n",
            "  Fixed....: 0\n",
            "  Moving...: 0\n",
            "  Floating.: 0\n",
            "  Fluid....: 237699  id:(0-237698)   MKs:1 (1)\n",
            "\n",
            "Total particles: 237699 (bound=0 (fx=0 mv=0 ft=0) fluid=237699)\n",
            "Total MK blocks: 1 (bound=0 (fx=0 mv=0 ft=0) fluid=1)\n",
            " \n",
            "Allocated memory in CPU: 15774840 (15.04 MB)\n",
            "Allocated memory in GPU: 30898656 (29.47 MB)\n",
            "Part_0003        174636 particles successfully stored\n",
            "\n",
            "[WARNINGS]\n",
            "1. Restarting from single precision data generates some minor differences in the results.\n",
            "\n",
            "[Initialising simulation (324cqkhd)  05-01-2025 10:48:10]\n",
            "PART       PartTime      TotalSteps    Steps    Time/Sec   Finish time        \n",
            "=========  ============  ============  =======  =========  ===================\n",
            "Part_0004      0.300045           561      561      64.29  05-01-2025 10:56:29\n",
            "  Particles out: 48510  (total out: 48510)  -  Current np: 126126\n",
            "\n",
            "*** WARNING: More than 1% of current fluid particles were excluded in one PART (t:0.300045, nstep:560)\n",
            "\n",
            "\n",
            "*** WARNING: More than 10% of particles were excluded (t:0.300045, nstep:560)\n",
            "\n",
            "Part_0005      0.375048          1122      561      39.69  05-01-2025 10:54:54\n",
            "  Particles out: 62884  (total out: 111394)  -  Current np: 63242\n",
            "\n",
            "*** WARNING: More than 2% of current fluid particles were excluded in one PART (t:0.375048, nstep:1121)\n",
            "\n",
            "\n",
            "*** WARNING: More than 20% of particles were excluded (t:0.375048, nstep:1121)\n",
            "\n",
            "\n",
            "*** WARNING: Particles OUT limit reached...\n",
            "\n",
            "Part_0006      0.439016          1601      479      14.73  05-01-2025 10:48:19\n",
            "  Particles out: 63242  (total out: 174636)  -  Current np: 0\n",
            "\n",
            "*** WARNING: More than 5% of current fluid particles were excluded in one PART (t:0.439016, nstep:1600)\n",
            "\n",
            "\n",
            "*** WARNING: More than 30% of particles were excluded (t:0.439016, nstep:1600)\n",
            "\n",
            "\n",
            "[Simulation INTERRUPTED  05-01-2025 10:48:19]\n",
            "Particles of simulation (initial): 237699\n",
            "DTs adjusted to DtMin............: 0\n",
            "Excluded particles...............: 174636\n",
            "Total Runtime....................: 8.788606 sec.\n",
            "Simulation Runtime...............: 8.743549 sec.\n",
            "Runtime per physical second......: 19.916225 sec.\n",
            "Steps per second.................: 183.106415\n",
            "Steps of simulation..............: 1601\n",
            "PART files.......................: 4\n",
            "Maximum number of particles......: 174636\n",
            "Maximum number of cells..........: 2592\n",
            "CPU Memory.......................: 62914680 (60.00 MB)\n",
            "GPU Memory.......................: 30898656 (29.47 MB)\n",
            " \n",
            "[GPU Timers]\n",
            "VA-Init..........................: 0.045020 sec.\n",
            "NL-Limits........................: 0.429198 sec.\n",
            "NL-PreSort.......................: 0.013471 sec.\n",
            "NL-RadixSort.....................: 0.499767 sec.\n",
            "NL-CellBegin.....................: 0.104589 sec.\n",
            "NL-SortData......................: 0.028256 sec.\n",
            "NL-OutCheck......................: 0.372062 sec.\n",
            "CF-PreForces.....................: 0.174383 sec.\n",
            "CF-Forces........................: 7.058756 sec.\n",
            "SU-Shifting......................: 0 sec.\n",
            "SU-ComputeStep...................: 0.024396 sec.\n",
            "SU-Floating......................: 0 sec.\n",
            "SU-Motion........................: 0 sec.\n",
            "SU-Periodic......................: 0 sec.\n",
            "SU-ResizeNp......................: 0 sec.\n",
            "SU-DownData......................: 0.004395 sec.\n",
            "SU-SavePart......................: 0.024023 sec.\n",
            "SU-Chrono........................: 0 sec.\n",
            "SU-Moorings......................: 0 sec.\n",
            "SU-InOut.........................: 0 sec.\n",
            "SU-Gauges........................: 0.000001 sec.\n",
            " \n",
            "[Output files]\n",
            "- CfgInit_Domain.vtk..: Saves the limits of the case and the simulation domain limits.\n",
            "- CfgInit_MapCells.vtk: Saves the cell division of the simulation domain.\n",
            "- PartInfo.ibi4.......: Binary file with execution information for each instant (input for PartInfo program).\n",
            "- PartOut_???.obi4....: Binary file with particles excluded during simulation (input for PartVtkOut program).\n",
            "- Part_????.bi4.......: Binary file with particle data in different instants.\n",
            "- Part_Head.ibi4......: Binary file with basic information of simulation data.\n",
            "- Run.csv.............: One line CSV file with execution parameters and other simulation data.\n",
            "- Run.out.............: Log file of the simulation.\n",
            " \n",
            "[WARNINGS]\n",
            "1. Restarting from single precision data generates some minor differences in the results.\n",
            "2. More than 1% of current fluid particles were excluded in one PART (t:0.300045, nstep:560)\n",
            "3. More than 10% of particles were excluded (t:0.300045, nstep:560)\n",
            "4. More than 2% of current fluid particles were excluded in one PART (t:0.375048, nstep:1121)\n",
            "5. More than 20% of particles were excluded (t:0.375048, nstep:1121)\n",
            "6. Particles OUT limit reached...\n",
            "7. More than 5% of current fluid particles were excluded in one PART (t:0.439016, nstep:1600)\n",
            "8. More than 30% of particles were excluded (t:0.439016, nstep:1600)\n",
            " \n",
            "[References]\n",
            "- Official solver reference DualSPHysics v5.0: J.M. Dominguez, G. Fourtakas,\n",
            "    C. Altomare, R.B. Canelas, A. Tafuni, O. Garcia-Feal, I. Martinez-Estevez,\n",
            "    A. Mokos, R. Vacondio, A.J.C. Crespo, B.D. Rogers, P.K. Stansby, M. Gomez-Gesteira.\n",
            "    2022. DualSPHysics: from fluid dynamics to multiphysics problems.\n",
            "    Computational Particle Mechanics, 9:867-895. doi: https://doi.org/10.1007/s40571-021-00404-2\n",
            "\n",
            "- Optimised CPU multi-core and GPU implementation (Dominguez et al., 2013  https://doi.org/10.1016/j.cpc.2012.10.015)\n",
            "- Dynamic boundary conditions (Crespo et al., 2007  https://doi.org/10.3970/cmc.2007.005.173)\n",
            "- Viscosity: Artificial (Monaghan, 1992  https://doi.org/10.1146/annurev.aa.30.090192.002551)\n",
            "- Kernel: Quintic Wendland (Wendland, 1995  https://doi.org/10.1007/BF02123482)\n",
            "- Time integration scheme: Symplectic (Leimkhuler, 1996  https://doi.org/10.1007/978-3-319-16375-8_1)\n",
            "\n",
            "Finished execution (code=0).\n",
            "\n"
          ]
        }
      ]
    },
    {
      "cell_type": "markdown",
      "source": [
        "<h3> Run with external command line -- configured with your runner file  (.sh file) </h3>"
      ],
      "metadata": {
        "id": "gKuCdZelMni-"
      }
    },
    {
      "cell_type": "code",
      "source": [
        "%cd $CaseFilePath\n",
        "!sudo bash ./$FileRunnerName"
      ],
      "metadata": {
        "id": "iMV-VaL7Mm19"
      },
      "execution_count": null,
      "outputs": []
    },
    {
      "cell_type": "markdown",
      "source": [
        "Export"
      ],
      "metadata": {
        "id": "4L44dK7P8wW9"
      }
    },
    {
      "cell_type": "markdown",
      "source": [
        "<h4> In case you need to edit xml, just use nano"
      ],
      "metadata": {
        "id": "kQJaZvxnxvTT"
      }
    },
    {
      "cell_type": "code",
      "source": [
        "!pip install colab-xterm\n",
        "%load_ext colabxterm\n",
        "!apt install nano\n",
        "%cd $run_directory\n",
        "clear_output()\n",
        "%xterm"
      ],
      "metadata": {
        "id": "3Kpry9MGmQ_8"
      },
      "execution_count": null,
      "outputs": []
    }
  ]
}